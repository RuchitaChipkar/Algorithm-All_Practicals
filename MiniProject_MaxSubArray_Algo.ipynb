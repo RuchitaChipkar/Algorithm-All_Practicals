{
  "nbformat": 4,
  "nbformat_minor": 0,
  "metadata": {
    "colab": {
      "name": "Untitled4.ipynb",
      "provenance": [],
      "collapsed_sections": []
    },
    "kernelspec": {
      "name": "python3",
      "display_name": "Python 3"
    },
    "language_info": {
      "name": "python"
    }
  },
  "cells": [
    {
      "cell_type": "code",
      "execution_count": null,
      "metadata": {
        "id": "ii-bLxcXHUYT"
      },
      "outputs": [],
      "source": [
        "def MaxSubArray(MyList):\n",
        "  max_sum = 0\n",
        "  current_sum = 0\n",
        "  for i in MyList:\n",
        "    current_sum = current_sum + i\n",
        "    if current_sum < 0:\n",
        "      current_sum = 0\n",
        "    if max_sum < current_sum:\n",
        "      max_sum = current_sum\n",
        "  return max_sum\n",
        "\n",
        "\n",
        "MyList = [-66,-3,64,-12,-37,19,26,60,6,-33,-64,-68,56,-14,21,27,-21,43,87,1]\n",
        "print(f\"Input array: {MyList}\")\n",
        "print(\"Maximum SubArray is:\",MaxSubArray(MyList))\n"
      ]
    }
  ]
}