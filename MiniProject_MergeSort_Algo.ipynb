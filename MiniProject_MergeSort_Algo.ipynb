{
  "nbformat": 4,
  "nbformat_minor": 0,
  "metadata": {
    "colab": {
      "name": "Untitled3.ipynb",
      "provenance": [],
      "collapsed_sections": []
    },
    "kernelspec": {
      "name": "python3",
      "display_name": "Python 3"
    },
    "language_info": {
      "name": "python"
    }
  },
  "cells": [
    {
      "cell_type": "code",
      "execution_count": 3,
      "metadata": {
        "colab": {
          "base_uri": "https://localhost:8080/"
        },
        "id": "mk5gTx1Y8zBl",
        "outputId": "b0d56ff2-e128-4442-c12d-6cf5f3d24445"
      },
      "outputs": [
        {
          "output_type": "stream",
          "name": "stdout",
          "text": [
            "[9, 20, 27, 32, 44, 65, 75, 81, 90]\n"
          ]
        }
      ],
      "source": [
        "def mergeSort(myList):\n",
        "    if len(myList) > 1:\n",
        "        mid = len(myList) // 2\n",
        "        left = myList[:mid]\n",
        "        right = myList[mid:]\n",
        "\n",
        "        # Recursive call on each half\n",
        "        mergeSort(left)\n",
        "        mergeSort(right)\n",
        "\n",
        "        # Two iterators for traversing the two halves\n",
        "        i = 0\n",
        "        j = 0\n",
        "        \n",
        "        # Iterator for the main list\n",
        "        k = 0\n",
        "        \n",
        "        while i < len(left) and j < len(right):\n",
        "            if left[i] <= right[j]:\n",
        "              # The value from the left half has been used\n",
        "              myList[k] = left[i]\n",
        "              # Move the iterator forward\n",
        "              i += 1\n",
        "            else:\n",
        "                myList[k] = right[j]\n",
        "                j += 1\n",
        "            # Move to the next slot\n",
        "            k += 1\n",
        "\n",
        "        # For all the remaining values\n",
        "        while i < len(left):\n",
        "            myList[k] = left[i]\n",
        "            i += 1\n",
        "            k += 1\n",
        "\n",
        "        while j < len(right):\n",
        "            myList[k]=right[j]\n",
        "            j += 1\n",
        "            k += 1\n",
        "\n",
        "myList = [20,65,44,32,75,9,81,27,90]\n",
        "mergeSort(myList)\n",
        "print(myList)\n"
      ]
    }
  ]
}